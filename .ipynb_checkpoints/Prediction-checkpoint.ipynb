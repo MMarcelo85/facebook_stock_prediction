{
 "cells": [
  {
   "cell_type": "code",
   "execution_count": 82,
   "metadata": {},
   "outputs": [],
   "source": [
    "import numpy as np\n",
    "import pandas as pd\n",
    "import seaborn as sns\n",
    "import matplotlib.pyplot as plt\n",
    "from sklearn.preprocessing import MinMaxScaler"
   ]
  },
  {
   "cell_type": "code",
   "execution_count": 83,
   "metadata": {},
   "outputs": [],
   "source": [
    "# Reading The Data\n",
    "data = pd.read_csv('data/facebook_stock.csv', index_col='Date', parse_dates = True)"
   ]
  },
  {
   "cell_type": "code",
   "execution_count": 84,
   "metadata": {},
   "outputs": [
    {
     "data": {
      "text/html": [
       "<div>\n",
       "<style scoped>\n",
       "    .dataframe tbody tr th:only-of-type {\n",
       "        vertical-align: middle;\n",
       "    }\n",
       "\n",
       "    .dataframe tbody tr th {\n",
       "        vertical-align: top;\n",
       "    }\n",
       "\n",
       "    .dataframe thead th {\n",
       "        text-align: right;\n",
       "    }\n",
       "</style>\n",
       "<table border=\"1\" class=\"dataframe\">\n",
       "  <thead>\n",
       "    <tr style=\"text-align: right;\">\n",
       "      <th></th>\n",
       "      <th>Open</th>\n",
       "      <th>High</th>\n",
       "      <th>Low</th>\n",
       "      <th>Close</th>\n",
       "      <th>Adj Close</th>\n",
       "      <th>Volume</th>\n",
       "    </tr>\n",
       "    <tr>\n",
       "      <th>Date</th>\n",
       "      <th></th>\n",
       "      <th></th>\n",
       "      <th></th>\n",
       "      <th></th>\n",
       "      <th></th>\n",
       "      <th></th>\n",
       "    </tr>\n",
       "  </thead>\n",
       "  <tbody>\n",
       "    <tr>\n",
       "      <th>2012-05-18</th>\n",
       "      <td>42.049999</td>\n",
       "      <td>45.000000</td>\n",
       "      <td>38.000000</td>\n",
       "      <td>38.230000</td>\n",
       "      <td>38.230000</td>\n",
       "      <td>573576400</td>\n",
       "    </tr>\n",
       "    <tr>\n",
       "      <th>2012-05-21</th>\n",
       "      <td>36.529999</td>\n",
       "      <td>36.660000</td>\n",
       "      <td>33.000000</td>\n",
       "      <td>34.029999</td>\n",
       "      <td>34.029999</td>\n",
       "      <td>168192700</td>\n",
       "    </tr>\n",
       "    <tr>\n",
       "      <th>2012-05-22</th>\n",
       "      <td>32.610001</td>\n",
       "      <td>33.590000</td>\n",
       "      <td>30.940001</td>\n",
       "      <td>31.000000</td>\n",
       "      <td>31.000000</td>\n",
       "      <td>101786600</td>\n",
       "    </tr>\n",
       "    <tr>\n",
       "      <th>2012-05-23</th>\n",
       "      <td>31.370001</td>\n",
       "      <td>32.500000</td>\n",
       "      <td>31.360001</td>\n",
       "      <td>32.000000</td>\n",
       "      <td>32.000000</td>\n",
       "      <td>73600000</td>\n",
       "    </tr>\n",
       "    <tr>\n",
       "      <th>2012-05-24</th>\n",
       "      <td>32.950001</td>\n",
       "      <td>33.209999</td>\n",
       "      <td>31.770000</td>\n",
       "      <td>33.029999</td>\n",
       "      <td>33.029999</td>\n",
       "      <td>50237200</td>\n",
       "    </tr>\n",
       "    <tr>\n",
       "      <th>...</th>\n",
       "      <td>...</td>\n",
       "      <td>...</td>\n",
       "      <td>...</td>\n",
       "      <td>...</td>\n",
       "      <td>...</td>\n",
       "      <td>...</td>\n",
       "    </tr>\n",
       "    <tr>\n",
       "      <th>2020-04-23</th>\n",
       "      <td>184.080002</td>\n",
       "      <td>187.050003</td>\n",
       "      <td>183.149994</td>\n",
       "      <td>185.130005</td>\n",
       "      <td>185.130005</td>\n",
       "      <td>21426600</td>\n",
       "    </tr>\n",
       "    <tr>\n",
       "      <th>2020-04-24</th>\n",
       "      <td>183.229996</td>\n",
       "      <td>190.410004</td>\n",
       "      <td>180.830002</td>\n",
       "      <td>190.070007</td>\n",
       "      <td>190.070007</td>\n",
       "      <td>28868500</td>\n",
       "    </tr>\n",
       "    <tr>\n",
       "      <th>2020-04-27</th>\n",
       "      <td>192.660004</td>\n",
       "      <td>193.750000</td>\n",
       "      <td>187.410004</td>\n",
       "      <td>187.500000</td>\n",
       "      <td>187.500000</td>\n",
       "      <td>29197800</td>\n",
       "    </tr>\n",
       "    <tr>\n",
       "      <th>2020-04-28</th>\n",
       "      <td>188.660004</td>\n",
       "      <td>189.199997</td>\n",
       "      <td>182.559998</td>\n",
       "      <td>182.910004</td>\n",
       "      <td>182.910004</td>\n",
       "      <td>21731000</td>\n",
       "    </tr>\n",
       "    <tr>\n",
       "      <th>2020-04-29</th>\n",
       "      <td>190.929993</td>\n",
       "      <td>196.910004</td>\n",
       "      <td>190.000000</td>\n",
       "      <td>194.190002</td>\n",
       "      <td>194.190002</td>\n",
       "      <td>45490500</td>\n",
       "    </tr>\n",
       "  </tbody>\n",
       "</table>\n",
       "<p>1999 rows × 6 columns</p>\n",
       "</div>"
      ],
      "text/plain": [
       "                  Open        High         Low       Close   Adj Close  \\\n",
       "Date                                                                     \n",
       "2012-05-18   42.049999   45.000000   38.000000   38.230000   38.230000   \n",
       "2012-05-21   36.529999   36.660000   33.000000   34.029999   34.029999   \n",
       "2012-05-22   32.610001   33.590000   30.940001   31.000000   31.000000   \n",
       "2012-05-23   31.370001   32.500000   31.360001   32.000000   32.000000   \n",
       "2012-05-24   32.950001   33.209999   31.770000   33.029999   33.029999   \n",
       "...                ...         ...         ...         ...         ...   \n",
       "2020-04-23  184.080002  187.050003  183.149994  185.130005  185.130005   \n",
       "2020-04-24  183.229996  190.410004  180.830002  190.070007  190.070007   \n",
       "2020-04-27  192.660004  193.750000  187.410004  187.500000  187.500000   \n",
       "2020-04-28  188.660004  189.199997  182.559998  182.910004  182.910004   \n",
       "2020-04-29  190.929993  196.910004  190.000000  194.190002  194.190002   \n",
       "\n",
       "               Volume  \n",
       "Date                   \n",
       "2012-05-18  573576400  \n",
       "2012-05-21  168192700  \n",
       "2012-05-22  101786600  \n",
       "2012-05-23   73600000  \n",
       "2012-05-24   50237200  \n",
       "...               ...  \n",
       "2020-04-23   21426600  \n",
       "2020-04-24   28868500  \n",
       "2020-04-27   29197800  \n",
       "2020-04-28   21731000  \n",
       "2020-04-29   45490500  \n",
       "\n",
       "[1999 rows x 6 columns]"
      ]
     },
     "execution_count": 84,
     "metadata": {},
     "output_type": "execute_result"
    }
   ],
   "source": [
    "data"
   ]
  },
  {
   "cell_type": "code",
   "execution_count": 85,
   "metadata": {},
   "outputs": [
    {
     "data": {
      "text/plain": [
       "Open         False\n",
       "High         False\n",
       "Low          False\n",
       "Close        False\n",
       "Adj Close    False\n",
       "Volume       False\n",
       "dtype: bool"
      ]
     },
     "execution_count": 85,
     "metadata": {},
     "output_type": "execute_result"
    }
   ],
   "source": [
    "# Checking for NAN OR Missing Values\n",
    "data.isna().any()"
   ]
  },
  {
   "cell_type": "code",
   "execution_count": 91,
   "metadata": {},
   "outputs": [
    {
     "data": {
      "image/png": "[encoded data removed]",
      "text/plain": [
       "<Figure size 1080x432 with 1 Axes>"
      ]
     },
     "metadata": {},
     "output_type": "display_data"
    }
   ],
   "source": [
    "# Visualizing The Data\n",
    "sns.set(style='darkgrid')\n",
    "plt.figure(figsize=(15, 6))\n",
    "\n",
    "plt.title(\"Facebook's Stock Market\")\n",
    "plt.xlabel('Date')\n",
    "plt.ylabel('Prices')\n",
    "\n",
    "plt.plot(data['Open'], label='Open', linewidth=3, color='red')\n",
    "plt.plot(data['Close'], label='Close', linewidth=3, color='blue')\n",
    "\n",
    "plt.legend()\n",
    "plt.show()"
   ]
  },
  {
   "cell_type": "code",
   "execution_count": 92,
   "metadata": {},
   "outputs": [
    {
     "data": {
      "image/png": "[encoded data removed]",
      "text/plain": [
       "<Figure size 1080x432 with 1 Axes>"
      ]
     },
     "metadata": {},
     "output_type": "display_data"
    }
   ],
   "source": [
    "# Visualizing The Data\n",
    "sns.set(style='darkgrid')\n",
    "plt.figure(figsize=(15, 6))\n",
    "\n",
    "plt.title(\"Facebook's Stock Market\")\n",
    "plt.xlabel('Date')\n",
    "plt.ylabel('Prices')\n",
    "\n",
    "plt.plot(data['High'], label='High', linewidth=3, color='purple')\n",
    "plt.plot(data['Low'], label='Low', linewidth=3, color='green')\n",
    "\n",
    "plt.legend()\n",
    "plt.show()"
   ]
  },
  {
   "cell_type": "code",
   "execution_count": 93,
   "metadata": {},
   "outputs": [
    {
     "data": {
      "text/html": [
       "<div>\n",
       "<style scoped>\n",
       "    .dataframe tbody tr th:only-of-type {\n",
       "        vertical-align: middle;\n",
       "    }\n",
       "\n",
       "    .dataframe tbody tr th {\n",
       "        vertical-align: top;\n",
       "    }\n",
       "\n",
       "    .dataframe thead th {\n",
       "        text-align: right;\n",
       "    }\n",
       "</style>\n",
       "<table border=\"1\" class=\"dataframe\">\n",
       "  <thead>\n",
       "    <tr style=\"text-align: right;\">\n",
       "      <th></th>\n",
       "      <th>Open</th>\n",
       "      <th>High</th>\n",
       "      <th>Low</th>\n",
       "      <th>Close</th>\n",
       "      <th>Adj Close</th>\n",
       "      <th>Volume</th>\n",
       "    </tr>\n",
       "    <tr>\n",
       "      <th>Date</th>\n",
       "      <th></th>\n",
       "      <th></th>\n",
       "      <th></th>\n",
       "      <th></th>\n",
       "      <th></th>\n",
       "      <th></th>\n",
       "    </tr>\n",
       "  </thead>\n",
       "  <tbody>\n",
       "    <tr>\n",
       "      <th>2019-01-02</th>\n",
       "      <td>128.990005</td>\n",
       "      <td>137.509995</td>\n",
       "      <td>128.559998</td>\n",
       "      <td>135.679993</td>\n",
       "      <td>135.679993</td>\n",
       "      <td>28146200</td>\n",
       "    </tr>\n",
       "    <tr>\n",
       "      <th>2019-01-03</th>\n",
       "      <td>134.690002</td>\n",
       "      <td>137.169998</td>\n",
       "      <td>131.119995</td>\n",
       "      <td>131.740005</td>\n",
       "      <td>131.740005</td>\n",
       "      <td>22717900</td>\n",
       "    </tr>\n",
       "    <tr>\n",
       "      <th>2019-01-04</th>\n",
       "      <td>134.009995</td>\n",
       "      <td>138.000000</td>\n",
       "      <td>133.750000</td>\n",
       "      <td>137.949997</td>\n",
       "      <td>137.949997</td>\n",
       "      <td>29002100</td>\n",
       "    </tr>\n",
       "    <tr>\n",
       "      <th>2019-01-07</th>\n",
       "      <td>137.559998</td>\n",
       "      <td>138.869995</td>\n",
       "      <td>135.910004</td>\n",
       "      <td>138.050003</td>\n",
       "      <td>138.050003</td>\n",
       "      <td>20089300</td>\n",
       "    </tr>\n",
       "    <tr>\n",
       "      <th>2019-01-08</th>\n",
       "      <td>139.889999</td>\n",
       "      <td>143.139999</td>\n",
       "      <td>139.539993</td>\n",
       "      <td>142.529999</td>\n",
       "      <td>142.529999</td>\n",
       "      <td>26263800</td>\n",
       "    </tr>\n",
       "    <tr>\n",
       "      <th>...</th>\n",
       "      <td>...</td>\n",
       "      <td>...</td>\n",
       "      <td>...</td>\n",
       "      <td>...</td>\n",
       "      <td>...</td>\n",
       "      <td>...</td>\n",
       "    </tr>\n",
       "    <tr>\n",
       "      <th>2020-04-23</th>\n",
       "      <td>184.080002</td>\n",
       "      <td>187.050003</td>\n",
       "      <td>183.149994</td>\n",
       "      <td>185.130005</td>\n",
       "      <td>185.130005</td>\n",
       "      <td>21426600</td>\n",
       "    </tr>\n",
       "    <tr>\n",
       "      <th>2020-04-24</th>\n",
       "      <td>183.229996</td>\n",
       "      <td>190.410004</td>\n",
       "      <td>180.830002</td>\n",
       "      <td>190.070007</td>\n",
       "      <td>190.070007</td>\n",
       "      <td>28868500</td>\n",
       "    </tr>\n",
       "    <tr>\n",
       "      <th>2020-04-27</th>\n",
       "      <td>192.660004</td>\n",
       "      <td>193.750000</td>\n",
       "      <td>187.410004</td>\n",
       "      <td>187.500000</td>\n",
       "      <td>187.500000</td>\n",
       "      <td>29197800</td>\n",
       "    </tr>\n",
       "    <tr>\n",
       "      <th>2020-04-28</th>\n",
       "      <td>188.660004</td>\n",
       "      <td>189.199997</td>\n",
       "      <td>182.559998</td>\n",
       "      <td>182.910004</td>\n",
       "      <td>182.910004</td>\n",
       "      <td>21731000</td>\n",
       "    </tr>\n",
       "    <tr>\n",
       "      <th>2020-04-29</th>\n",
       "      <td>190.929993</td>\n",
       "      <td>196.910004</td>\n",
       "      <td>190.000000</td>\n",
       "      <td>194.190002</td>\n",
       "      <td>194.190002</td>\n",
       "      <td>45490500</td>\n",
       "    </tr>\n",
       "  </tbody>\n",
       "</table>\n",
       "<p>334 rows × 6 columns</p>\n",
       "</div>"
      ],
      "text/plain": [
       "                  Open        High         Low       Close   Adj Close  \\\n",
       "Date                                                                     \n",
       "2019-01-02  128.990005  137.509995  128.559998  135.679993  135.679993   \n",
       "2019-01-03  134.690002  137.169998  131.119995  131.740005  131.740005   \n",
       "2019-01-04  134.009995  138.000000  133.750000  137.949997  137.949997   \n",
       "2019-01-07  137.559998  138.869995  135.910004  138.050003  138.050003   \n",
       "2019-01-08  139.889999  143.139999  139.539993  142.529999  142.529999   \n",
       "...                ...         ...         ...         ...         ...   \n",
       "2020-04-23  184.080002  187.050003  183.149994  185.130005  185.130005   \n",
       "2020-04-24  183.229996  190.410004  180.830002  190.070007  190.070007   \n",
       "2020-04-27  192.660004  193.750000  187.410004  187.500000  187.500000   \n",
       "2020-04-28  188.660004  189.199997  182.559998  182.910004  182.910004   \n",
       "2020-04-29  190.929993  196.910004  190.000000  194.190002  194.190002   \n",
       "\n",
       "              Volume  \n",
       "Date                  \n",
       "2019-01-02  28146200  \n",
       "2019-01-03  22717900  \n",
       "2019-01-04  29002100  \n",
       "2019-01-07  20089300  \n",
       "2019-01-08  26263800  \n",
       "...              ...  \n",
       "2020-04-23  21426600  \n",
       "2020-04-24  28868500  \n",
       "2020-04-27  29197800  \n",
       "2020-04-28  21731000  \n",
       "2020-04-29  45490500  \n",
       "\n",
       "[334 rows x 6 columns]"
      ]
     },
     "execution_count": 93,
     "metadata": {},
     "output_type": "execute_result"
    }
   ],
   "source": [
    "# Splitting The Data Into Training, Testing Data\n",
    "training_data = data[data.index < '2019-01-01']\n",
    "testing_data = data[data.index >= '2019-01-01']\n",
    "\n",
    "testing_data"
   ]
  },
  {
   "cell_type": "code",
   "execution_count": 94,
   "metadata": {},
   "outputs": [
    {
     "data": {
      "text/html": [
       "<div>\n",
       "<style scoped>\n",
       "    .dataframe tbody tr th:only-of-type {\n",
       "        vertical-align: middle;\n",
       "    }\n",
       "\n",
       "    .dataframe tbody tr th {\n",
       "        vertical-align: top;\n",
       "    }\n",
       "\n",
       "    .dataframe thead th {\n",
       "        text-align: right;\n",
       "    }\n",
       "</style>\n",
       "<table border=\"1\" class=\"dataframe\">\n",
       "  <thead>\n",
       "    <tr style=\"text-align: right;\">\n",
       "      <th></th>\n",
       "      <th>Open</th>\n",
       "      <th>High</th>\n",
       "      <th>Low</th>\n",
       "      <th>Close</th>\n",
       "      <th>Volume</th>\n",
       "    </tr>\n",
       "    <tr>\n",
       "      <th>Date</th>\n",
       "      <th></th>\n",
       "      <th></th>\n",
       "      <th></th>\n",
       "      <th></th>\n",
       "      <th></th>\n",
       "    </tr>\n",
       "  </thead>\n",
       "  <tbody>\n",
       "    <tr>\n",
       "      <th>2012-05-18</th>\n",
       "      <td>42.049999</td>\n",
       "      <td>45.000000</td>\n",
       "      <td>38.000000</td>\n",
       "      <td>38.230000</td>\n",
       "      <td>573576400</td>\n",
       "    </tr>\n",
       "    <tr>\n",
       "      <th>2012-05-21</th>\n",
       "      <td>36.529999</td>\n",
       "      <td>36.660000</td>\n",
       "      <td>33.000000</td>\n",
       "      <td>34.029999</td>\n",
       "      <td>168192700</td>\n",
       "    </tr>\n",
       "    <tr>\n",
       "      <th>2012-05-22</th>\n",
       "      <td>32.610001</td>\n",
       "      <td>33.590000</td>\n",
       "      <td>30.940001</td>\n",
       "      <td>31.000000</td>\n",
       "      <td>101786600</td>\n",
       "    </tr>\n",
       "    <tr>\n",
       "      <th>2012-05-23</th>\n",
       "      <td>31.370001</td>\n",
       "      <td>32.500000</td>\n",
       "      <td>31.360001</td>\n",
       "      <td>32.000000</td>\n",
       "      <td>73600000</td>\n",
       "    </tr>\n",
       "    <tr>\n",
       "      <th>2012-05-24</th>\n",
       "      <td>32.950001</td>\n",
       "      <td>33.209999</td>\n",
       "      <td>31.770000</td>\n",
       "      <td>33.029999</td>\n",
       "      <td>50237200</td>\n",
       "    </tr>\n",
       "    <tr>\n",
       "      <th>...</th>\n",
       "      <td>...</td>\n",
       "      <td>...</td>\n",
       "      <td>...</td>\n",
       "      <td>...</td>\n",
       "      <td>...</td>\n",
       "    </tr>\n",
       "    <tr>\n",
       "      <th>2018-12-24</th>\n",
       "      <td>123.099998</td>\n",
       "      <td>129.740005</td>\n",
       "      <td>123.019997</td>\n",
       "      <td>124.059998</td>\n",
       "      <td>22066000</td>\n",
       "    </tr>\n",
       "    <tr>\n",
       "      <th>2018-12-26</th>\n",
       "      <td>126.000000</td>\n",
       "      <td>134.240005</td>\n",
       "      <td>125.889999</td>\n",
       "      <td>134.179993</td>\n",
       "      <td>39723400</td>\n",
       "    </tr>\n",
       "    <tr>\n",
       "      <th>2018-12-27</th>\n",
       "      <td>132.440002</td>\n",
       "      <td>134.990005</td>\n",
       "      <td>129.669998</td>\n",
       "      <td>134.520004</td>\n",
       "      <td>31202500</td>\n",
       "    </tr>\n",
       "    <tr>\n",
       "      <th>2018-12-28</th>\n",
       "      <td>135.339996</td>\n",
       "      <td>135.919998</td>\n",
       "      <td>132.199997</td>\n",
       "      <td>133.199997</td>\n",
       "      <td>22627600</td>\n",
       "    </tr>\n",
       "    <tr>\n",
       "      <th>2018-12-31</th>\n",
       "      <td>134.449997</td>\n",
       "      <td>134.639999</td>\n",
       "      <td>129.949997</td>\n",
       "      <td>131.089996</td>\n",
       "      <td>24625300</td>\n",
       "    </tr>\n",
       "  </tbody>\n",
       "</table>\n",
       "<p>1665 rows × 5 columns</p>\n",
       "</div>"
      ],
      "text/plain": [
       "                  Open        High         Low       Close     Volume\n",
       "Date                                                                 \n",
       "2012-05-18   42.049999   45.000000   38.000000   38.230000  573576400\n",
       "2012-05-21   36.529999   36.660000   33.000000   34.029999  168192700\n",
       "2012-05-22   32.610001   33.590000   30.940001   31.000000  101786600\n",
       "2012-05-23   31.370001   32.500000   31.360001   32.000000   73600000\n",
       "2012-05-24   32.950001   33.209999   31.770000   33.029999   50237200\n",
       "...                ...         ...         ...         ...        ...\n",
       "2018-12-24  123.099998  129.740005  123.019997  124.059998   22066000\n",
       "2018-12-26  126.000000  134.240005  125.889999  134.179993   39723400\n",
       "2018-12-27  132.440002  134.990005  129.669998  134.520004   31202500\n",
       "2018-12-28  135.339996  135.919998  132.199997  133.199997   22627600\n",
       "2018-12-31  134.449997  134.639999  129.949997  131.089996   24625300\n",
       "\n",
       "[1665 rows x 5 columns]"
      ]
     },
     "execution_count": 94,
     "metadata": {},
     "output_type": "execute_result"
    }
   ],
   "source": [
    "# Filtering The DataFrame\n",
    "training_data = training_data.filter(['Open', 'High', 'Low', 'Close', 'Volume'])\n",
    "training_data"
   ]
  },
  {
   "cell_type": "code",
   "execution_count": 95,
   "metadata": {},
   "outputs": [
    {
     "data": {
      "text/plain": [
       "array([[0.12128111, 0.13341652, 0.10395486, 0.10261801, 1.        ],\n",
       "       [0.09335154, 0.09178937, 0.07853803, 0.08159383, 0.28587298],\n",
       "       [0.07351751, 0.07646619, 0.0680663 , 0.06642639, 0.16889149],\n",
       "       ...,\n",
       "       [0.57862782, 0.58258052, 0.56994711, 0.58462234, 0.04455   ],\n",
       "       [0.59330093, 0.58722237, 0.58280803, 0.5780147 , 0.02944439],\n",
       "       [0.5887978 , 0.58083355, 0.57137045, 0.56745255, 0.03296355]])"
      ]
     },
     "execution_count": 95,
     "metadata": {},
     "output_type": "execute_result"
    }
   ],
   "source": [
    "# Normalizing The Data\n",
    "scaler = MinMaxScaler(feature_range=(0, 1))\n",
    "scaled_training_data = scaler.fit_transform(training_data)\n",
    "\n",
    "scaled_training_data"
   ]
  },
  {
   "cell_type": "code",
   "execution_count": 102,
   "metadata": {},
   "outputs": [],
   "source": [
    "# Spitting The Data Into X_train, y_train\n",
    "X_train = []\n",
    "y_train = []\n",
    "\n",
    "for i in range(60, scaled_training_data.shape[0]-60):\n",
    "    X_train.append(scaled_training_data[i-60:i])\n",
    "    y_train.append(scaled_training_data[i,[0, 3]])"
   ]
  },
  {
   "cell_type": "code",
   "execution_count": 103,
   "metadata": {},
   "outputs": [
    {
     "data": {
      "text/plain": [
       "((1545, 60, 5), (1545, 2))"
      ]
     },
     "execution_count": 103,
     "metadata": {},
     "output_type": "execute_result"
    }
   ],
   "source": [
    "# Converting Lists Into Numpy Arrays\n",
    "X_train, y_train = np.array(X_train), np.array(y_train)\n",
    "\n",
    "X_train.shape, y_train.shape"
   ]
  },
  {
   "cell_type": "markdown",
   "metadata": {},
   "source": [
    "## Building The Model"
   ]
  },
  {
   "cell_type": "code",
   "execution_count": 104,
   "metadata": {},
   "outputs": [],
   "source": [
    "from tensorflow import keras\n",
    "from tensorflow.keras.models import Sequential\n",
    "from tensorflow.keras.layers import LSTM, Dense, Dropout\n",
    "from sklearn.metrics import mean_squared_error"
   ]
  },
  {
   "cell_type": "code",
   "execution_count": 105,
   "metadata": {},
   "outputs": [],
   "source": [
    "model = Sequential()\n",
    "\n",
    "# Adding the first LSTM layer & Dropout\n",
    "model.add(LSTM(units = 50, return_sequences = True, input_shape = (X_train.shape[1], 5)))\n",
    "model.add(Dropout(0.2))\n",
    "\n",
    "# Adding the second LSTM layer & Dropout\n",
    "model.add(LSTM(units = 50, return_sequences = True))\n",
    "model.add(Dropout(0.2))\n",
    "\n",
    "# Adding the third LSTM layer & Dropout\n",
    "model.add(LSTM(units = 50, return_sequences = True))\n",
    "model.add(Dropout(0.2))\n",
    "\n",
    "# Adding the fourth LSTM layer & Dropout\n",
    "model.add(LSTM(units = 50, return_sequences = True))\n",
    "model.add(Dropout(0.2))\n",
    "\n",
    "# Adding the fifth LSTM layer & Dropout\n",
    "model.add(LSTM(units = 50))\n",
    "model.add(Dropout(0.2))\n",
    "\n",
    "# Adding the final Dense layer\n",
    "model.add(Dense(units = 2))"
   ]
  },
  {
   "cell_type": "code",
   "execution_count": 106,
   "metadata": {},
   "outputs": [
    {
     "name": "stdout",
     "output_type": "stream",
     "text": [
      "Model: \"sequential_1\"\n",
      "_________________________________________________________________\n",
      "Layer (type)                 Output Shape              Param #   \n",
      "=================================================================\n",
      "lstm_5 (LSTM)                (None, 60, 50)            11200     \n",
      "_________________________________________________________________\n",
      "dropout_5 (Dropout)          (None, 60, 50)            0         \n",
      "_________________________________________________________________\n",
      "lstm_6 (LSTM)                (None, 60, 50)            20200     \n",
      "_________________________________________________________________\n",
      "dropout_6 (Dropout)          (None, 60, 50)            0         \n",
      "_________________________________________________________________\n",
      "lstm_7 (LSTM)                (None, 60, 50)            20200     \n",
      "_________________________________________________________________\n",
      "dropout_7 (Dropout)          (None, 60, 50)            0         \n",
      "_________________________________________________________________\n",
      "lstm_8 (LSTM)                (None, 60, 50)            20200     \n",
      "_________________________________________________________________\n",
      "dropout_8 (Dropout)          (None, 60, 50)            0         \n",
      "_________________________________________________________________\n",
      "lstm_9 (LSTM)                (None, 50)                20200     \n",
      "_________________________________________________________________\n",
      "dropout_9 (Dropout)          (None, 50)                0         \n",
      "_________________________________________________________________\n",
      "dense_1 (Dense)              (None, 2)                 102       \n",
      "=================================================================\n",
      "Total params: 92,102\n",
      "Trainable params: 92,102\n",
      "Non-trainable params: 0\n",
      "_________________________________________________________________\n"
     ]
    }
   ],
   "source": [
    "# Summary\n",
    "model.summary()"
   ]
  },
  {
   "cell_type": "code",
   "execution_count": 107,
   "metadata": {},
   "outputs": [],
   "source": [
    "# Compile The Model\n",
    "model.compile(optimizer = 'adam', loss = 'mean_squared_error')"
   ]
  },
  {
   "cell_type": "code",
   "execution_count": null,
   "metadata": {},
   "outputs": [
    {
     "name": "stdout",
     "output_type": "stream",
     "text": [
      "Train on 1236 samples, validate on 309 samples\n",
      "Epoch 1/10\n",
      "1236/1236 [==============================] - 15s 13ms/sample - loss: 0.0222 - val_loss: 0.0066\n",
      "Epoch 2/10\n",
      "1236/1236 [==============================] - 11s 9ms/sample - loss: 0.0027 - val_loss: 0.0057\n",
      "Epoch 3/10\n",
      "1236/1236 [==============================] - 10s 8ms/sample - loss: 0.0024 - val_loss: 0.0029\n",
      "Epoch 4/10\n",
      "1236/1236 [==============================] - 11s 9ms/sample - loss: 0.0022 - val_loss: 0.0032\n",
      "Epoch 5/10\n",
      "1236/1236 [==============================] - 11s 9ms/sample - loss: 0.0021 - val_loss: 0.0036\n",
      "Epoch 6/10\n",
      " 480/1236 [==========>...................] - ETA: 6s - loss: 0.0022"
     ]
    }
   ],
   "source": [
    "# Train The Model\n",
    "model.fit(X_train, y_train, epochs=10, batch_size=32, validation_split=0.2)"
   ]
  },
  {
   "cell_type": "code",
   "execution_count": 18,
   "metadata": {},
   "outputs": [],
   "source": [
    "# Saving The Model\n",
    "model.save('fb_stock_predictor')"
   ]
  },
  {
   "cell_type": "markdown",
   "metadata": {},
   "source": [
    "## Testing Data Preprocessing"
   ]
  },
  {
   "cell_type": "code",
   "execution_count": 19,
   "metadata": {},
   "outputs": [
    {
     "data": {
      "text/html": [
       "<div>\n",
       "<style scoped>\n",
       "    .dataframe tbody tr th:only-of-type {\n",
       "        vertical-align: middle;\n",
       "    }\n",
       "\n",
       "    .dataframe tbody tr th {\n",
       "        vertical-align: top;\n",
       "    }\n",
       "\n",
       "    .dataframe thead th {\n",
       "        text-align: right;\n",
       "    }\n",
       "</style>\n",
       "<table border=\"1\" class=\"dataframe\">\n",
       "  <thead>\n",
       "    <tr style=\"text-align: right;\">\n",
       "      <th></th>\n",
       "      <th>Open</th>\n",
       "      <th>High</th>\n",
       "      <th>Low</th>\n",
       "      <th>Close</th>\n",
       "      <th>Volume</th>\n",
       "    </tr>\n",
       "    <tr>\n",
       "      <th>Date</th>\n",
       "      <th></th>\n",
       "      <th></th>\n",
       "      <th></th>\n",
       "      <th></th>\n",
       "      <th></th>\n",
       "    </tr>\n",
       "  </thead>\n",
       "  <tbody>\n",
       "    <tr>\n",
       "      <th>2019-01-02</th>\n",
       "      <td>128.990005</td>\n",
       "      <td>137.509995</td>\n",
       "      <td>128.559998</td>\n",
       "      <td>135.679993</td>\n",
       "      <td>28146200</td>\n",
       "    </tr>\n",
       "    <tr>\n",
       "      <th>2019-01-03</th>\n",
       "      <td>134.690002</td>\n",
       "      <td>137.169998</td>\n",
       "      <td>131.119995</td>\n",
       "      <td>131.740005</td>\n",
       "      <td>22717900</td>\n",
       "    </tr>\n",
       "    <tr>\n",
       "      <th>2019-01-04</th>\n",
       "      <td>134.009995</td>\n",
       "      <td>138.000000</td>\n",
       "      <td>133.750000</td>\n",
       "      <td>137.949997</td>\n",
       "      <td>29002100</td>\n",
       "    </tr>\n",
       "    <tr>\n",
       "      <th>2019-01-07</th>\n",
       "      <td>137.559998</td>\n",
       "      <td>138.869995</td>\n",
       "      <td>135.910004</td>\n",
       "      <td>138.050003</td>\n",
       "      <td>20089300</td>\n",
       "    </tr>\n",
       "    <tr>\n",
       "      <th>2019-01-08</th>\n",
       "      <td>139.889999</td>\n",
       "      <td>143.139999</td>\n",
       "      <td>139.539993</td>\n",
       "      <td>142.529999</td>\n",
       "      <td>26263800</td>\n",
       "    </tr>\n",
       "    <tr>\n",
       "      <th>...</th>\n",
       "      <td>...</td>\n",
       "      <td>...</td>\n",
       "      <td>...</td>\n",
       "      <td>...</td>\n",
       "      <td>...</td>\n",
       "    </tr>\n",
       "    <tr>\n",
       "      <th>2020-04-23</th>\n",
       "      <td>184.080002</td>\n",
       "      <td>187.050003</td>\n",
       "      <td>183.149994</td>\n",
       "      <td>185.130005</td>\n",
       "      <td>21426600</td>\n",
       "    </tr>\n",
       "    <tr>\n",
       "      <th>2020-04-24</th>\n",
       "      <td>183.229996</td>\n",
       "      <td>190.410004</td>\n",
       "      <td>180.830002</td>\n",
       "      <td>190.070007</td>\n",
       "      <td>28868500</td>\n",
       "    </tr>\n",
       "    <tr>\n",
       "      <th>2020-04-27</th>\n",
       "      <td>192.660004</td>\n",
       "      <td>193.750000</td>\n",
       "      <td>187.410004</td>\n",
       "      <td>187.500000</td>\n",
       "      <td>29197800</td>\n",
       "    </tr>\n",
       "    <tr>\n",
       "      <th>2020-04-28</th>\n",
       "      <td>188.660004</td>\n",
       "      <td>189.199997</td>\n",
       "      <td>182.559998</td>\n",
       "      <td>182.910004</td>\n",
       "      <td>21731000</td>\n",
       "    </tr>\n",
       "    <tr>\n",
       "      <th>2020-04-29</th>\n",
       "      <td>190.929993</td>\n",
       "      <td>196.910004</td>\n",
       "      <td>190.000000</td>\n",
       "      <td>194.190002</td>\n",
       "      <td>45490500</td>\n",
       "    </tr>\n",
       "  </tbody>\n",
       "</table>\n",
       "<p>334 rows × 5 columns</p>\n",
       "</div>"
      ],
      "text/plain": [
       "                  Open        High         Low       Close    Volume\n",
       "Date                                                                \n",
       "2019-01-02  128.990005  137.509995  128.559998  135.679993  28146200\n",
       "2019-01-03  134.690002  137.169998  131.119995  131.740005  22717900\n",
       "2019-01-04  134.009995  138.000000  133.750000  137.949997  29002100\n",
       "2019-01-07  137.559998  138.869995  135.910004  138.050003  20089300\n",
       "2019-01-08  139.889999  143.139999  139.539993  142.529999  26263800\n",
       "...                ...         ...         ...         ...       ...\n",
       "2020-04-23  184.080002  187.050003  183.149994  185.130005  21426600\n",
       "2020-04-24  183.229996  190.410004  180.830002  190.070007  28868500\n",
       "2020-04-27  192.660004  193.750000  187.410004  187.500000  29197800\n",
       "2020-04-28  188.660004  189.199997  182.559998  182.910004  21731000\n",
       "2020-04-29  190.929993  196.910004  190.000000  194.190002  45490500\n",
       "\n",
       "[334 rows x 5 columns]"
      ]
     },
     "execution_count": 19,
     "metadata": {},
     "output_type": "execute_result"
    }
   ],
   "source": [
    "# Filtering The Test Data\n",
    "testing_data = testing_data.filter(['Open', 'High', 'Low', 'Close', 'Volume'])\n",
    "testing_data"
   ]
  },
  {
   "cell_type": "code",
   "execution_count": 20,
   "metadata": {},
   "outputs": [],
   "source": [
    "# Get past 60 days data from the training data\n",
    "past_60_days_data = training_data.tail(60)"
   ]
  },
  {
   "cell_type": "code",
   "execution_count": 21,
   "metadata": {},
   "outputs": [
    {
     "data": {
      "text/html": [
       "<div>\n",
       "<style scoped>\n",
       "    .dataframe tbody tr th:only-of-type {\n",
       "        vertical-align: middle;\n",
       "    }\n",
       "\n",
       "    .dataframe tbody tr th {\n",
       "        vertical-align: top;\n",
       "    }\n",
       "\n",
       "    .dataframe thead th {\n",
       "        text-align: right;\n",
       "    }\n",
       "</style>\n",
       "<table border=\"1\" class=\"dataframe\">\n",
       "  <thead>\n",
       "    <tr style=\"text-align: right;\">\n",
       "      <th></th>\n",
       "      <th>Open</th>\n",
       "      <th>High</th>\n",
       "      <th>Low</th>\n",
       "      <th>Close</th>\n",
       "      <th>Volume</th>\n",
       "    </tr>\n",
       "    <tr>\n",
       "      <th>Date</th>\n",
       "      <th></th>\n",
       "      <th></th>\n",
       "      <th></th>\n",
       "      <th></th>\n",
       "      <th></th>\n",
       "    </tr>\n",
       "  </thead>\n",
       "  <tbody>\n",
       "    <tr>\n",
       "      <th>2018-10-04</th>\n",
       "      <td>161.460007</td>\n",
       "      <td>161.460007</td>\n",
       "      <td>157.350006</td>\n",
       "      <td>158.850006</td>\n",
       "      <td>25739600</td>\n",
       "    </tr>\n",
       "    <tr>\n",
       "      <th>2018-10-05</th>\n",
       "      <td>159.210007</td>\n",
       "      <td>160.899994</td>\n",
       "      <td>156.199997</td>\n",
       "      <td>157.330002</td>\n",
       "      <td>25744000</td>\n",
       "    </tr>\n",
       "    <tr>\n",
       "      <th>2018-10-08</th>\n",
       "      <td>155.539993</td>\n",
       "      <td>158.339996</td>\n",
       "      <td>154.389999</td>\n",
       "      <td>157.250000</td>\n",
       "      <td>24046000</td>\n",
       "    </tr>\n",
       "    <tr>\n",
       "      <th>2018-10-09</th>\n",
       "      <td>157.690002</td>\n",
       "      <td>160.589996</td>\n",
       "      <td>157.419998</td>\n",
       "      <td>157.899994</td>\n",
       "      <td>18844400</td>\n",
       "    </tr>\n",
       "    <tr>\n",
       "      <th>2018-10-10</th>\n",
       "      <td>156.820007</td>\n",
       "      <td>157.690002</td>\n",
       "      <td>151.309998</td>\n",
       "      <td>151.380005</td>\n",
       "      <td>30610000</td>\n",
       "    </tr>\n",
       "    <tr>\n",
       "      <th>...</th>\n",
       "      <td>...</td>\n",
       "      <td>...</td>\n",
       "      <td>...</td>\n",
       "      <td>...</td>\n",
       "      <td>...</td>\n",
       "    </tr>\n",
       "    <tr>\n",
       "      <th>2020-04-23</th>\n",
       "      <td>184.080002</td>\n",
       "      <td>187.050003</td>\n",
       "      <td>183.149994</td>\n",
       "      <td>185.130005</td>\n",
       "      <td>21426600</td>\n",
       "    </tr>\n",
       "    <tr>\n",
       "      <th>2020-04-24</th>\n",
       "      <td>183.229996</td>\n",
       "      <td>190.410004</td>\n",
       "      <td>180.830002</td>\n",
       "      <td>190.070007</td>\n",
       "      <td>28868500</td>\n",
       "    </tr>\n",
       "    <tr>\n",
       "      <th>2020-04-27</th>\n",
       "      <td>192.660004</td>\n",
       "      <td>193.750000</td>\n",
       "      <td>187.410004</td>\n",
       "      <td>187.500000</td>\n",
       "      <td>29197800</td>\n",
       "    </tr>\n",
       "    <tr>\n",
       "      <th>2020-04-28</th>\n",
       "      <td>188.660004</td>\n",
       "      <td>189.199997</td>\n",
       "      <td>182.559998</td>\n",
       "      <td>182.910004</td>\n",
       "      <td>21731000</td>\n",
       "    </tr>\n",
       "    <tr>\n",
       "      <th>2020-04-29</th>\n",
       "      <td>190.929993</td>\n",
       "      <td>196.910004</td>\n",
       "      <td>190.000000</td>\n",
       "      <td>194.190002</td>\n",
       "      <td>45490500</td>\n",
       "    </tr>\n",
       "  </tbody>\n",
       "</table>\n",
       "<p>394 rows × 5 columns</p>\n",
       "</div>"
      ],
      "text/plain": [
       "                  Open        High         Low       Close    Volume\n",
       "Date                                                                \n",
       "2018-10-04  161.460007  161.460007  157.350006  158.850006  25739600\n",
       "2018-10-05  159.210007  160.899994  156.199997  157.330002  25744000\n",
       "2018-10-08  155.539993  158.339996  154.389999  157.250000  24046000\n",
       "2018-10-09  157.690002  160.589996  157.419998  157.899994  18844400\n",
       "2018-10-10  156.820007  157.690002  151.309998  151.380005  30610000\n",
       "...                ...         ...         ...         ...       ...\n",
       "2020-04-23  184.080002  187.050003  183.149994  185.130005  21426600\n",
       "2020-04-24  183.229996  190.410004  180.830002  190.070007  28868500\n",
       "2020-04-27  192.660004  193.750000  187.410004  187.500000  29197800\n",
       "2020-04-28  188.660004  189.199997  182.559998  182.910004  21731000\n",
       "2020-04-29  190.929993  196.910004  190.000000  194.190002  45490500\n",
       "\n",
       "[394 rows x 5 columns]"
      ]
     },
     "execution_count": 21,
     "metadata": {},
     "output_type": "execute_result"
    }
   ],
   "source": [
    "# Create The New Testing DataFrame\n",
    "new_testing_data = past_60_days_data.append(testing_data)\n",
    "new_testing_data"
   ]
  },
  {
   "cell_type": "code",
   "execution_count": 22,
   "metadata": {},
   "outputs": [
    {
     "data": {
      "text/plain": [
       "array([[0.72546046, 0.71469933, 0.71065476, 0.7064124 , 0.03492651],\n",
       "       [0.71407613, 0.71190416, 0.70480884, 0.69880363, 0.03493426],\n",
       "       [0.69550694, 0.69912653, 0.69560795, 0.69840316, 0.03194305],\n",
       "       ...,\n",
       "       [0.88332323, 0.87586725, 0.86346076, 0.8498273 , 0.04101851],\n",
       "       [0.86308441, 0.85315698, 0.8388064 , 0.8268509 , 0.02786493],\n",
       "       [0.87456989, 0.89163967, 0.87662666, 0.88331582, 0.06971985]])"
      ]
     },
     "execution_count": 22,
     "metadata": {},
     "output_type": "execute_result"
    }
   ],
   "source": [
    "# Normalizing The Data\n",
    "scaled_testing_data = scaler.transform(new_testing_data)\n",
    "scaled_testing_data"
   ]
  },
  {
   "cell_type": "code",
   "execution_count": 23,
   "metadata": {},
   "outputs": [],
   "source": [
    "# Splitting The Test Data Into X_test, y_test\n",
    "X_test = []\n",
    "y_test = []\n",
    "\n",
    "for i in range(60, scaled_testing_data.shape[0]):\n",
    "    X_test.append(scaled_testing_data[i-60:i])\n",
    "    y_test.append(scaled_testing_data[i,[0,3]])"
   ]
  },
  {
   "cell_type": "code",
   "execution_count": 24,
   "metadata": {},
   "outputs": [
    {
     "data": {
      "text/plain": [
       "((334, 60, 5), (334, 2))"
      ]
     },
     "execution_count": 24,
     "metadata": {},
     "output_type": "execute_result"
    }
   ],
   "source": [
    "# Converting Lists Into Numpy Array\n",
    "X_test, y_test = np.array(X_test), np.array(y_test)\n",
    "\n",
    "X_test.shape, y_test.shape"
   ]
  },
  {
   "cell_type": "code",
   "execution_count": 25,
   "metadata": {},
   "outputs": [
    {
     "name": "stdout",
     "output_type": "stream",
     "text": [
      "334/334 [==============================] - 1s 3ms/sample - loss: 0.7145\n"
     ]
    },
    {
     "data": {
      "text/plain": [
       "0.7145108994609581"
      ]
     },
     "execution_count": 25,
     "metadata": {},
     "output_type": "execute_result"
    }
   ],
   "source": [
    "# Evaluate The Model\n",
    "loss = model.evaluate(X_test, y_test)\n",
    "loss"
   ]
  },
  {
   "cell_type": "markdown",
   "metadata": {},
   "source": [
    "## Predictions"
   ]
  },
  {
   "cell_type": "code",
   "execution_count": 26,
   "metadata": {},
   "outputs": [
    {
     "name": "stdout",
     "output_type": "stream",
     "text": [
      "WARNING:tensorflow:From C:\\Users\\DELL\\anaconda3\\lib\\site-packages\\tensorflow\\python\\ops\\init_ops.py:97: calling GlorotUniform.__init__ (from tensorflow.python.ops.init_ops) with dtype is deprecated and will be removed in a future version.\n",
      "Instructions for updating:\n",
      "Call initializer instance with the dtype argument instead of passing it to the constructor\n",
      "WARNING:tensorflow:From C:\\Users\\DELL\\anaconda3\\lib\\site-packages\\tensorflow\\python\\ops\\init_ops.py:97: calling Orthogonal.__init__ (from tensorflow.python.ops.init_ops) with dtype is deprecated and will be removed in a future version.\n",
      "Instructions for updating:\n",
      "Call initializer instance with the dtype argument instead of passing it to the constructor\n",
      "WARNING:tensorflow:From C:\\Users\\DELL\\anaconda3\\lib\\site-packages\\tensorflow\\python\\ops\\init_ops.py:97: calling Zeros.__init__ (from tensorflow.python.ops.init_ops) with dtype is deprecated and will be removed in a future version.\n",
      "Instructions for updating:\n",
      "Call initializer instance with the dtype argument instead of passing it to the constructor\n",
      "WARNING:tensorflow:From C:\\Users\\DELL\\anaconda3\\lib\\site-packages\\tensorflow\\python\\ops\\math_grad.py:1250: add_dispatch_support.<locals>.wrapper (from tensorflow.python.ops.array_ops) is deprecated and will be removed in a future version.\n",
      "Instructions for updating:\n",
      "Use tf.where in 2.0, which has the same broadcast rule as np.where\n"
     ]
    }
   ],
   "source": [
    "# Load The Model\n",
    "model = keras.models.load_model('fb_stock_predictor')"
   ]
  },
  {
   "cell_type": "code",
   "execution_count": 27,
   "metadata": {},
   "outputs": [],
   "source": [
    "# Make Predictions\n",
    "predictions = model.predict(X_test)\n",
    "\n",
    "# Predictions"
   ]
  },
  {
   "cell_type": "code",
   "execution_count": 30,
   "metadata": {},
   "outputs": [
    {
     "data": {
      "text/plain": [
       "0.0035458825495708604"
      ]
     },
     "execution_count": 30,
     "metadata": {},
     "output_type": "execute_result"
    }
   ],
   "source": [
    "# Find The Mean Squared Error\n",
    "mean_error = mean_squared_error(y_test, predictions)\n",
    "\n",
    "mean_error"
   ]
  },
  {
   "cell_type": "code",
   "execution_count": 33,
   "metadata": {},
   "outputs": [
    {
     "data": {
      "text/plain": [
       "array([5.05970449e-03, 4.99126541e-03, 5.08336709e-03, 5.00575662e-03,\n",
       "       1.76160763e-09])"
      ]
     },
     "execution_count": 33,
     "metadata": {},
     "output_type": "execute_result"
    }
   ],
   "source": [
    "# Check Scale\n",
    "scaler.scale_"
   ]
  },
  {
   "cell_type": "code",
   "execution_count": 34,
   "metadata": {},
   "outputs": [],
   "source": [
    "scale_open = 1/5.05970449e-03\n",
    "scale_close = 1/5.00575662e-03"
   ]
  },
  {
   "cell_type": "code",
   "execution_count": 35,
   "metadata": {},
   "outputs": [],
   "source": [
    "# Unscaling The Predictions\n",
    "predicted_open = predictions[:, 0]\n",
    "predicted_close = predictions[:, 1]\n",
    "\n",
    "predicted_open = predicted_open * scale_open\n",
    "predicted_close = predicted_close * scale_close"
   ]
  },
  {
   "cell_type": "code",
   "execution_count": 36,
   "metadata": {},
   "outputs": [],
   "source": [
    "# Unscaling the y_test\n",
    "actual_open = y_test[:, 0]\n",
    "actual_close = y_test[:, 1]\n",
    "\n",
    "actual_open = actual_open * scale_open\n",
    "actual_close = actual_close * scale_close"
   ]
  },
  {
   "cell_type": "code",
   "execution_count": 37,
   "metadata": {},
   "outputs": [
    {
     "data": {
      "text/html": [
       "<div>\n",
       "<style scoped>\n",
       "    .dataframe tbody tr th:only-of-type {\n",
       "        vertical-align: middle;\n",
       "    }\n",
       "\n",
       "    .dataframe tbody tr th {\n",
       "        vertical-align: top;\n",
       "    }\n",
       "\n",
       "    .dataframe thead th {\n",
       "        text-align: right;\n",
       "    }\n",
       "</style>\n",
       "<table border=\"1\" class=\"dataframe\">\n",
       "  <thead>\n",
       "    <tr style=\"text-align: right;\">\n",
       "      <th></th>\n",
       "      <th>Actual Open</th>\n",
       "      <th>Predicted Open</th>\n",
       "    </tr>\n",
       "  </thead>\n",
       "  <tbody>\n",
       "    <tr>\n",
       "      <th>0</th>\n",
       "      <td>110.910005</td>\n",
       "      <td>126.172318</td>\n",
       "    </tr>\n",
       "    <tr>\n",
       "      <th>1</th>\n",
       "      <td>116.610002</td>\n",
       "      <td>125.699211</td>\n",
       "    </tr>\n",
       "    <tr>\n",
       "      <th>2</th>\n",
       "      <td>115.929995</td>\n",
       "      <td>125.152924</td>\n",
       "    </tr>\n",
       "    <tr>\n",
       "      <th>3</th>\n",
       "      <td>119.479998</td>\n",
       "      <td>124.570183</td>\n",
       "    </tr>\n",
       "    <tr>\n",
       "      <th>4</th>\n",
       "      <td>121.809999</td>\n",
       "      <td>123.989716</td>\n",
       "    </tr>\n",
       "    <tr>\n",
       "      <th>...</th>\n",
       "      <td>...</td>\n",
       "      <td>...</td>\n",
       "    </tr>\n",
       "    <tr>\n",
       "      <th>329</th>\n",
       "      <td>166.000002</td>\n",
       "      <td>150.930603</td>\n",
       "    </tr>\n",
       "    <tr>\n",
       "      <th>330</th>\n",
       "      <td>165.149996</td>\n",
       "      <td>152.091019</td>\n",
       "    </tr>\n",
       "    <tr>\n",
       "      <th>331</th>\n",
       "      <td>174.580004</td>\n",
       "      <td>153.264938</td>\n",
       "    </tr>\n",
       "    <tr>\n",
       "      <th>332</th>\n",
       "      <td>170.580004</td>\n",
       "      <td>154.449417</td>\n",
       "    </tr>\n",
       "    <tr>\n",
       "      <th>333</th>\n",
       "      <td>172.849993</td>\n",
       "      <td>155.643188</td>\n",
       "    </tr>\n",
       "  </tbody>\n",
       "</table>\n",
       "<p>334 rows × 2 columns</p>\n",
       "</div>"
      ],
      "text/plain": [
       "     Actual Open  Predicted Open\n",
       "0     110.910005      126.172318\n",
       "1     116.610002      125.699211\n",
       "2     115.929995      125.152924\n",
       "3     119.479998      124.570183\n",
       "4     121.809999      123.989716\n",
       "..           ...             ...\n",
       "329   166.000002      150.930603\n",
       "330   165.149996      152.091019\n",
       "331   174.580004      153.264938\n",
       "332   170.580004      154.449417\n",
       "333   172.849993      155.643188\n",
       "\n",
       "[334 rows x 2 columns]"
      ]
     },
     "execution_count": 37,
     "metadata": {},
     "output_type": "execute_result"
    }
   ],
   "source": [
    "# Create The DataFrame For Actual_Open VS Predicted_Open\n",
    "new_open_df = pd.DataFrame({\"Actual Open\": actual_open, \"Predicted Open\": predicted_open})\n",
    "\n",
    "new_open_df"
   ]
  },
  {
   "cell_type": "markdown",
   "metadata": {},
   "source": [
    "## Visualizing Open Prices"
   ]
  },
  {
   "cell_type": "code",
   "execution_count": 80,
   "metadata": {},
   "outputs": [
    {
     "data": {
      "image/png": "[encoded data removed]",
      "text/plain": [
       "<Figure size 1080x432 with 1 Axes>"
      ]
     },
     "metadata": {},
     "output_type": "display_data"
    }
   ],
   "source": [
    "# Visualizing The Open Prices\n",
    "sns.set(style='darkgrid')\n",
    "plt.figure(figsize=(15, 6))\n",
    "\n",
    "plt.title(\"Facebook's Stock Market Open Price Predictions\")\n",
    "plt.xlabel('Timestamps')\n",
    "plt.ylabel('Open')\n",
    "\n",
    "plt.plot(new_open_df['Actual Open'], linewidth=3, color='green')\n",
    "plt.plot(new_open_df['Predicted Open'], linewidth=3, color='red')\n",
    "\n",
    "plt.legend(['Test Open', 'Prediction'], loc='upper left')\n",
    "plt.savefig('facebook_stock_prediction_1.png', dpi=100)\n",
    "plt.show()"
   ]
  },
  {
   "cell_type": "code",
   "execution_count": 73,
   "metadata": {},
   "outputs": [
    {
     "data": {
      "text/html": [
       "<div>\n",
       "<style scoped>\n",
       "    .dataframe tbody tr th:only-of-type {\n",
       "        vertical-align: middle;\n",
       "    }\n",
       "\n",
       "    .dataframe tbody tr th {\n",
       "        vertical-align: top;\n",
       "    }\n",
       "\n",
       "    .dataframe thead th {\n",
       "        text-align: right;\n",
       "    }\n",
       "</style>\n",
       "<table border=\"1\" class=\"dataframe\">\n",
       "  <thead>\n",
       "    <tr style=\"text-align: right;\">\n",
       "      <th></th>\n",
       "      <th>Actual Close</th>\n",
       "      <th>Predicted Close</th>\n",
       "    </tr>\n",
       "  </thead>\n",
       "  <tbody>\n",
       "    <tr>\n",
       "      <th>0</th>\n",
       "      <td>117.949993</td>\n",
       "      <td>125.383575</td>\n",
       "    </tr>\n",
       "    <tr>\n",
       "      <th>1</th>\n",
       "      <td>114.010005</td>\n",
       "      <td>124.923508</td>\n",
       "    </tr>\n",
       "    <tr>\n",
       "      <th>2</th>\n",
       "      <td>120.219997</td>\n",
       "      <td>124.392967</td>\n",
       "    </tr>\n",
       "    <tr>\n",
       "      <th>3</th>\n",
       "      <td>120.320003</td>\n",
       "      <td>123.827003</td>\n",
       "    </tr>\n",
       "    <tr>\n",
       "      <th>4</th>\n",
       "      <td>124.799999</td>\n",
       "      <td>123.262985</td>\n",
       "    </tr>\n",
       "    <tr>\n",
       "      <th>...</th>\n",
       "      <td>...</td>\n",
       "      <td>...</td>\n",
       "    </tr>\n",
       "    <tr>\n",
       "      <th>329</th>\n",
       "      <td>167.400005</td>\n",
       "      <td>149.959656</td>\n",
       "    </tr>\n",
       "    <tr>\n",
       "      <th>330</th>\n",
       "      <td>172.340007</td>\n",
       "      <td>151.099701</td>\n",
       "    </tr>\n",
       "    <tr>\n",
       "      <th>331</th>\n",
       "      <td>169.770000</td>\n",
       "      <td>152.256363</td>\n",
       "    </tr>\n",
       "    <tr>\n",
       "      <th>332</th>\n",
       "      <td>165.180004</td>\n",
       "      <td>153.426773</td>\n",
       "    </tr>\n",
       "    <tr>\n",
       "      <th>333</th>\n",
       "      <td>176.460002</td>\n",
       "      <td>154.609009</td>\n",
       "    </tr>\n",
       "  </tbody>\n",
       "</table>\n",
       "<p>334 rows × 2 columns</p>\n",
       "</div>"
      ],
      "text/plain": [
       "     Actual Close  Predicted Close\n",
       "0      117.949993       125.383575\n",
       "1      114.010005       124.923508\n",
       "2      120.219997       124.392967\n",
       "3      120.320003       123.827003\n",
       "4      124.799999       123.262985\n",
       "..            ...              ...\n",
       "329    167.400005       149.959656\n",
       "330    172.340007       151.099701\n",
       "331    169.770000       152.256363\n",
       "332    165.180004       153.426773\n",
       "333    176.460002       154.609009\n",
       "\n",
       "[334 rows x 2 columns]"
      ]
     },
     "execution_count": 73,
     "metadata": {},
     "output_type": "execute_result"
    }
   ],
   "source": [
    "# Create The DataFrame For Actual_Close VS Predicted_Close\n",
    "new_close_df = pd.DataFrame({\"Actual Close\": actual_close, \"Predicted Close\": predicted_close})\n",
    "\n",
    "new_close_df"
   ]
  },
  {
   "cell_type": "code",
   "execution_count": 78,
   "metadata": {},
   "outputs": [
    {
     "data": {
      "image/png": "[encoded data removed]",
      "text/plain": [
       "<Figure size 1080x432 with 1 Axes>"
      ]
     },
     "metadata": {},
     "output_type": "display_data"
    }
   ],
   "source": [
    "# Visualizing The Open Prices\n",
    "sns.set(style='darkgrid')\n",
    "plt.figure(figsize=(15, 6))\n",
    "\n",
    "plt.title(\"Facebook's Stock Market Close Price Predictions\")\n",
    "plt.xlabel('Timestamps')\n",
    "plt.ylabel('Close')\n",
    "\n",
    "plt.plot(new_close_df['Actual Close'], linewidth=3, color='purple')\n",
    "plt.plot(new_close_df['Predicted Close'], linewidth=3, color='orange')\n",
    "\n",
    "plt.legend(['Test Close', 'Prediction'], loc='upper left')\n",
    "plt.savefig('facebook_stock_prediction_2.png', dpi=100)\n",
    "plt.show()"
   ]
  },
  {
   "cell_type": "code",
   "execution_count": null,
   "metadata": {},
   "outputs": [],
   "source": []
  }
 ],
 "metadata": {
  "kernelspec": {
   "display_name": "Python 3",
   "language": "python",
   "name": "python3"
  },
  "language_info": {
   "codemirror_mode": {
    "name": "ipython",
    "version": 3
   },
   "file_extension": ".py",
   "mimetype": "text/x-python",
   "name": "python",
   "nbconvert_exporter": "python",
   "pygments_lexer": "ipython3",
   "version": "3.7.6"
  }
 },
 "nbformat": 4,
 "nbformat_minor": 4
}
